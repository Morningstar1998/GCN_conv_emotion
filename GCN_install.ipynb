{
  "nbformat": 4,
  "nbformat_minor": 0,
  "metadata": {
    "colab": {
      "name": "GCN_install.ipynb",
      "provenance": [],
      "collapsed_sections": [],
      "authorship_tag": "ABX9TyOH5rQsiuLt4Ue9fNIcWJ8e",
      "include_colab_link": true
    },
    "kernelspec": {
      "display_name": "Python 3",
      "name": "python3"
    },
    "language_info": {
      "name": "python"
    }
  },
  "cells": [
    {
      "cell_type": "markdown",
      "metadata": {
        "id": "view-in-github",
        "colab_type": "text"
      },
      "source": [
        "<a href=\"https://colab.research.google.com/github/Morningstar1998/GCN_conv_emotion/blob/main/GCN_install.ipynb\" target=\"_parent\"><img src=\"https://colab.research.google.com/assets/colab-badge.svg\" alt=\"Open In Colab\"/></a>"
      ]
    },
    {
      "cell_type": "code",
      "metadata": {
        "colab": {
          "base_uri": "https://localhost:8080/"
        },
        "id": "atP94_Tq66ko",
        "outputId": "06c3eb6e-b9ce-46d8-b75d-044f3999f189"
      },
      "source": [
        "#from google.colab import drive\n",
        "#drive.mount('/content/gdrive')\n",
        "#!ln -s /content/gdrive/My\\ Drive/ /mydrive"
      ],
      "execution_count": null,
      "outputs": [
        {
          "output_type": "stream",
          "text": [
            "Mounted at /content/gdrive\n"
          ],
          "name": "stdout"
        }
      ]
    },
    {
      "cell_type": "code",
      "metadata": {
        "id": "jDsPxT-z6_WZ"
      },
      "source": [
        "!pip install torch-scatter #-f https://pytorch-geometric.com/whl/torch-1.8.1+cu101.html\n",
        "!pip install torch-sparse #-f https://pytorch-geometric.com/whl/torch-1.8.1+cu101.html\n",
        "!pip install torch-cluster #-f #https://pytorch-geometric.com/whl/torch-1.8.1+cu101.html\n",
        "!pip install torch-spline-conv #-f https://pytorch-geometric.com/whl/torch-1.8.1+cu101.html\n",
        "!pip install torch-geometric\n",
        "!pip install transformers\n",
        "!pip install sentencepiece"
      ],
      "execution_count": null,
      "outputs": []
    },
    {
      "cell_type": "code",
      "metadata": {
        "id": "BXYe9Nxg8f2H"
      },
      "source": [
        "import sys\n",
        "lib='/content/GCN_conv_emotion/GCN'\n",
        "sys.path.insert(0,lib)"
      ],
      "execution_count": 32,
      "outputs": []
    },
    {
      "cell_type": "code",
      "metadata": {
        "id": "LqKeYzxW7Bwp"
      },
      "source": [
        "import model\n",
        "import sys\n",
        "import os\n",
        "import numpy as np\n",
        "import pandas as pd\n",
        "import torch\n",
        "import torch.nn as nn\n",
        "import torch.optim as optim\n",
        "from torch.utils.data import DataLoader\n",
        "from torch.utils.data.sampler import SubsetRandomSampler\n",
        "from dataloader import IEMOCAPDataset\n",
        "from model import MaskedNLLLoss, LSTMModel, GRUModel, DialogRNNModel, DialogueGCNModel\n",
        "from sklearn.metrics import f1_score, confusion_matrix, accuracy_score, classification_report, precision_recall_fscore_support\n",
        "import pickle\n",
        "import torchtext\n",
        "from torchtext.data.utils import get_tokenizer\n",
        "from collections import Counter\n",
        "from torchtext.vocab import Vocab\n",
        "import torch\n",
        "import torch.nn as nn\n",
        "from torchtext.vocab import GloVe\n",
        "from functools import reduce\n",
        "import torch as T\n",
        "#import nltk\n",
        "#import torch.nn.functional as F\n",
        "#from transformers import AutoTokenizer, AutoModelForSeq2SeqLM\n",
        "#import torch.nn.functional as F\n",
        "#from torch.autograd import Variable\n",
        "#from torch.nn.utils.rnn import pad_sequence\n",
        "#from torch_geometric.nn import RGCNConv, GraphConv\n",
        "#nltk.download('punkt')"
      ],
      "execution_count": null,
      "outputs": []
    },
    {
      "cell_type": "markdown",
      "metadata": {
        "id": "DvFyY49fROsK"
      },
      "source": [
        "model=pickle.load(open('/content/gdrive/MyDrive/GCN/conv-emotion/DialogueGCN/IEMOCAP_features/IEMOCAP_features.pkl', 'rb'), encoding='latin1')"
      ]
    },
    {
      "cell_type": "code",
      "metadata": {
        "colab": {
          "base_uri": "https://localhost:8080/"
        },
        "id": "E0w7LFN10ut-",
        "outputId": "bf7ee301-9c5e-44d1-b438-79758bb85318"
      },
      "source": [
        "embedding_glove = GloVe(name='6B', dim=100)"
      ],
      "execution_count": null,
      "outputs": [
        {
          "output_type": "stream",
          "text": [
            ".vector_cache/glove.6B.zip: 862MB [02:42, 5.31MB/s]                           \n",
            "100%|█████████▉| 399901/400000 [00:17<00:00, 22683.95it/s]"
          ],
          "name": "stderr"
        }
      ]
    },
    {
      "cell_type": "code",
      "metadata": {
        "id": "jga8GJ37QJzy"
      },
      "source": [
        "embedding_glove2 = GloVe(name='840B', dim=300)"
      ],
      "execution_count": null,
      "outputs": []
    },
    {
      "cell_type": "markdown",
      "metadata": {
        "id": "Luf_ICOK5_yu"
      },
      "source": [
        "pd.set_option('max_rows', 99999)\n",
        "pd.set_option('max_colwidth', 400)\n",
        "pd.describe_option('max_colwidth')"
      ]
    }
  ]
}